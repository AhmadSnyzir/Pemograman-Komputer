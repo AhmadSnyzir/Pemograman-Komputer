{
 "cells": [
  {
   "cell_type": "markdown",
   "metadata": {},
   "source": [
    "# Tugas 1 Pemograman"
   ]
  },
  {
   "cell_type": "code",
   "execution_count": 4,
   "metadata": {},
   "outputs": [
    {
     "name": "stdout",
     "output_type": "stream",
     "text": [
      "Alas = 12\n",
      "Tinggi = 21\n",
      "Luas jajar Genjang = 252\n"
     ]
    }
   ],
   "source": [
    "# Input\n",
    "\n",
    "a= int(input(\"Alas =\"))\n",
    "t= int(input(\"Tinggi =\"))\n",
    "\n",
    "# Proses Menghitung Luas jajar Genjang\n",
    "Luas = a * t\n",
    "\n",
    "# Output luas Jajar Genjang\n",
    "print(\"Alas =\", a)\n",
    "print(\"Tinggi =\", t)\n",
    "print(\"Luas jajar Genjang = %.f\" %(Luas))"
   ]
  },
  {
   "cell_type": "markdown",
   "metadata": {},
   "source": [
    "Mendeklarasikan variable 'a' yang digunakan untuk menyimpan inputan dari user,dengan menggunakan tipe data integer. Mendeklarasikan variable 't' yang digunakan untuk menyimpan inputan dari user,dengan menggunakan tipe data integer.Mendeklarasikan variable'Luas' yang digunakan untuk menghitung luas Jajar Genjang .'print(\"Alas =\", a)' digunakan untuk menampilkan nilai atau isi dari variable'a'.'print(\"Tinggi =\", t)' digunakan untuk menampilkan nilai atau isi dari variable't'.'print(\"Luas jajar Genjang = %.f\" %(Luas))' digunakan untuk menampilkan nilai atau isi dari variable'Luas'. Dan '%.f digunakan untuk tidak menampilkan bilangan setelah(,)."
   ]
  },
  {
   "cell_type": "code",
   "execution_count": 1,
   "metadata": {},
   "outputs": [
    {
     "name": "stdout",
     "output_type": "stream",
     "text": [
      "Sisi 1 = 65\n",
      "Sisi 2 = 56\n",
      "Keliling Jajar Genjang = 242\n"
     ]
    }
   ],
   "source": [
    "# Input\n",
    "\n",
    "s1= int(input(\"Sisi 1 =\"))\n",
    "s2= int(input(\"Sisi 2 =\"))\n",
    "\n",
    "# Proses Menghitung Keliling jajar Genjang\n",
    "Keliling = 2 *(s1+s2)\n",
    "\n",
    "# Output Keliling Jajar Genjang\n",
    "print(\"Sisi 1 =\", s1)\n",
    "print(\"Sisi 2 =\", s2)\n",
    "print(\"Keliling Jajar Genjang = %.f\" %(Keliling))"
   ]
  },
  {
   "cell_type": "markdown",
   "metadata": {},
   "source": [
    " Mendeklarasikan variable 's1' yang digunakan untuk menyimpan inputan dari user,dengan menggunakan tipe data integer. Mendeklarasikan variable 's2' yang digunakan untuk menyimpan inputan dari user,dengan menggunakan tipe data integer.Mendeklarasikan variable'Keliling' yang digunakan untuk menghitung Keliling dari Jajar Genjang .'print(\"Sisi1 =\", s1)' digunakan untuk menampilkan nilai atau isi dari variable's1'.'print(\"Sisi2 =\", s2)' digunakan untuk menampilkan nilai atau isi dari variable's2'.'print(\"Keliling jajar Genjang = %.f\" %(Keliling))' digunakan untuk menampilkan nilai atau isi dari variable'Keliling'. Dan '%.f digunakan untuk tidak menampilkan bilangan setelah(,)."
   ]
  }
 ],
 "metadata": {
  "language_info": {
   "name": "python"
  }
 },
 "nbformat": 4,
 "nbformat_minor": 2
}
