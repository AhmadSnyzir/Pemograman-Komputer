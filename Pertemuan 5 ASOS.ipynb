{
 "cells": [
  {
   "cell_type": "markdown",
   "metadata": {},
   "source": [
    "# PERTEMUAN 5"
   ]
  },
  {
   "cell_type": "markdown",
   "metadata": {},
   "source": [
    "# Strukutr Pengulangan"
   ]
  },
  {
   "cell_type": "markdown",
   "metadata": {},
   "source": [
    "# Kontruksi for Loop"
   ]
  },
  {
   "cell_type": "code",
   "execution_count": 3,
   "metadata": {},
   "outputs": [
    {
     "name": "stdout",
     "output_type": "stream",
     "text": [
      "apel\n",
      "pisang\n",
      "jeruk\n"
     ]
    }
   ],
   "source": [
    "fruits = [\"apel\", \"pisang\", \"jeruk\"]\n",
    "\n",
    "for i in fruits :\n",
    "    print(i)\n"
   ]
  },
  {
   "cell_type": "markdown",
   "metadata": {},
   "source": [
    "#  For Loop mengunakan range dengan start, stop dan step"
   ]
  },
  {
   "cell_type": "code",
   "execution_count": 5,
   "metadata": {},
   "outputs": [
    {
     "name": "stdout",
     "output_type": "stream",
     "text": [
      "20\n",
      "40\n",
      "60\n",
      "80\n"
     ]
    }
   ],
   "source": [
    "for i in range (20, 100, 20) :\n",
    "    print(i)\n"
   ]
  },
  {
   "cell_type": "markdown",
   "metadata": {},
   "source": [
    "# Kontruksi While Loop"
   ]
  },
  {
   "cell_type": "markdown",
   "metadata": {},
   "source": [
    "# While Loop Sederhana "
   ]
  },
  {
   "cell_type": "code",
   "execution_count": 6,
   "metadata": {},
   "outputs": [
    {
     "name": "stdout",
     "output_type": "stream",
     "text": [
      "20\n",
      "18\n",
      "16\n",
      "14\n",
      "12\n",
      "10\n",
      "8\n",
      "6\n",
      "4\n",
      "2\n"
     ]
    }
   ],
   "source": [
    "i = 20\n",
    "while i >=2:\n",
    "    print(i)\n",
    "    i -= 2"
   ]
  },
  {
   "cell_type": "markdown",
   "metadata": {},
   "source": [
    "# while Loop Tak Terbatas (Infinite Loop)"
   ]
  },
  {
   "cell_type": "code",
   "execution_count": 14,
   "metadata": {},
   "outputs": [
    {
     "name": "stdout",
     "output_type": "stream",
     "text": [
      "1. Menghitung Luas Lingkaran\n",
      "2. Menghitung Luas Persegi Panjang\n",
      "3. Keluar dari Program\n",
      "Luas Lingkaran = 5811.142857142857\n",
      "Luas Persegi Panjang = 1344\n"
     ]
    }
   ],
   "source": [
    "print(\"1. Menghitung Luas Lingkaran\")\n",
    "print(\"2. Menghitung Luas Persegi Panjang\")\n",
    "print(\"3. Keluar dari Program\")\n",
    "\n",
    "while True :\n",
    "    user_input = int(input(\"Masukkan pilihan anda\"))\n",
    "    if user_input == 1:\n",
    "        r = int(input(\"Masukkan jari - jari \"))\n",
    "        pi = 22/7\n",
    "        luas = pi * r * r\n",
    "        print(f\"Luas Lingkaran = {luas}\")\n",
    "    elif user_input == 2:\n",
    "        p = int(input(\"Masukkan Panjang\"))\n",
    "        l = int(input(\"Masukkan Lebar\"))\n",
    "        luas = p * l\n",
    "        print(f\"Luas Persegi Panjang = {luas}\")\n",
    "    elif user_input == 3:\n",
    "        break\n",
    "    else:\n",
    "        print(\"Pilihan Tidak Tersedia\")    \n"
   ]
  },
  {
   "cell_type": "markdown",
   "metadata": {},
   "source": []
  },
  {
   "cell_type": "code",
   "execution_count": null,
   "metadata": {},
   "outputs": [],
   "source": [
    "i = True"
   ]
  }
 ],
 "metadata": {
  "language_info": {
   "name": "python"
  }
 },
 "nbformat": 4,
 "nbformat_minor": 2
}
