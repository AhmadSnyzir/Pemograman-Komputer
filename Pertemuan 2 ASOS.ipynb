{
 "cells": [
  {
   "cell_type": "markdown",
   "metadata": {},
   "source": [
    "# Pertemuan 2 Identifier"
   ]
  },
  {
   "cell_type": "code",
   "execution_count": 2,
   "metadata": {},
   "outputs": [
    {
     "name": "stdout",
     "output_type": "stream",
     "text": [
      "Ahmad <class 'str'>\n",
      "19 <class 'int'>\n",
      "3.6 <class 'float'>\n",
      "[50, 70, 100] <class 'list'>\n",
      "('baca komik', 'Nonton') <class 'tuple'>\n",
      "{'nissan': 'maroon', 'no_plat': 2} <class 'dict'>\n"
     ]
    }
   ],
   "source": [
    "nama=\"Ahmad\"\n",
    "umur=19\n",
    "ipk=3.6\n",
    "nilai=[50,70,100]\n",
    "hobi=(\"baca komik\",\"Nonton\")\n",
    "mobil={'nissan':'maroon','no_plat':2}\n",
    "\n",
    "print(nama,type(nama))\n",
    "print(umur,type(umur))\n",
    "print(ipk,type(ipk))\n",
    "print(nilai,type(nilai))\n",
    "print(hobi,type(hobi))\n",
    "print(mobil,type(mobil))"
   ]
  },
  {
   "cell_type": "markdown",
   "metadata": {},
   "source": [
    "# Operasi Aritmatika"
   ]
  },
  {
   "cell_type": "code",
   "execution_count": 3,
   "metadata": {},
   "outputs": [
    {
     "name": "stdout",
     "output_type": "stream",
     "text": [
      "a+b 21\n",
      "a-b 3\n",
      "a*b 108\n",
      "a/b 1.3333333333333333\n",
      "a%b 3\n"
     ]
    }
   ],
   "source": [
    "a=int(input(\"a adalah \"))\n",
    "b=int(input(\"b adalah \"))\n",
    "\n",
    "penjumlahan=a+b\n",
    "pengurangan=a-b\n",
    "perkalian=a*b\n",
    "pembagian=a/b\n",
    "modulus=a%b\n",
    "\n",
    "print(\"a+b\",penjumlahan)\n",
    "print(\"a-b\",pengurangan)\n",
    "print(\"a*b\",perkalian)\n",
    "print(\"a/b\",pembagian)\n",
    "print(\"a%b\",modulus)"
   ]
  },
  {
   "cell_type": "markdown",
   "metadata": {},
   "source": [
    "# Operasi Relasi"
   ]
  },
  {
   "cell_type": "code",
   "execution_count": 4,
   "metadata": {},
   "outputs": [
    {
     "name": "stdout",
     "output_type": "stream",
     "text": [
      "False\n",
      "True\n",
      "False\n",
      "True\n",
      "False\n",
      "True\n"
     ]
    }
   ],
   "source": [
    "A = 15\n",
    "B = 20\n",
    "\n",
    "print(A == B)\n",
    "print(A != B)\n",
    "print(A > B)\n",
    "print(A < B)\n",
    "print(A >= B)\n",
    "print(A <= B)"
   ]
  },
  {
   "cell_type": "markdown",
   "metadata": {},
   "source": [
    "# Operasi Logika"
   ]
  },
  {
   "cell_type": "code",
   "execution_count": 5,
   "metadata": {},
   "outputs": [
    {
     "name": "stdout",
     "output_type": "stream",
     "text": [
      "True\n",
      "True\n",
      "True\n"
     ]
    }
   ],
   "source": [
    "a = 2\n",
    "b = 1\n",
    "c = 5\n",
    "\n",
    "print((a > b) and (c > b))\n",
    "print((a > b) or (c > b))\n",
    "print(not(b>b))"
   ]
  }
 ],
 "metadata": {
  "language_info": {
   "name": "python"
  }
 },
 "nbformat": 4,
 "nbformat_minor": 2
}
