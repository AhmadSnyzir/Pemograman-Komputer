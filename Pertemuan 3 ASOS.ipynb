{
 "cells": [
  {
   "cell_type": "markdown",
   "metadata": {},
   "source": [
    "# PERTEMUAN 3 input/output"
   ]
  },
  {
   "cell_type": "markdown",
   "metadata": {},
   "source": [
    "# Contoh Input String"
   ]
  },
  {
   "cell_type": "code",
   "execution_count": 1,
   "metadata": {},
   "outputs": [
    {
     "name": "stdout",
     "output_type": "stream",
     "text": [
      "Halo, Ahmad Shyrath Oriante Snyzir\n",
      "Umur Anda: 19\n",
      "Ipk Anda:  4.0\n"
     ]
    }
   ],
   "source": [
    "# contoh input stering\n",
    "nama = input(\"Masukkan nama Anda: \")\n",
    "print(\"Halo,\", nama)\n",
    "\n",
    "# contoh input integer\n",
    "umur = int(input(\"Masukkan umur: \"))\n",
    "print(\"Umur Anda:\" ,umur)\n",
    "\n",
    "# contoh input float\n",
    "ipk = float(input(\"Masukkan ipk: \"))\n",
    "print(\"Ipk Anda: \",ipk)"
   ]
  },
  {
   "cell_type": "markdown",
   "metadata": {},
   "source": [
    "# Contoh Input yang Dipisahkan Spasi"
   ]
  },
  {
   "cell_type": "code",
   "execution_count": 2,
   "metadata": {},
   "outputs": [
    {
     "name": "stdout",
     "output_type": "stream",
     "text": [
      "Bilangan pertama: 6\n",
      "Bilangan kedua 4\n"
     ]
    }
   ],
   "source": [
    "bil = input(\"Masukkan dua bilangan bulat dipisahkan oleh spasi: \")\n",
    "# membagi variable bil menjadi variable bil1 dan bil2\n",
    "bil1, bil2 = map(int, bil.split())\n",
    "print(\"Bilangan pertama:\", bil1)\n",
    "print(\"Bilangan kedua\", bil2)"
   ]
  },
  {
   "cell_type": "markdown",
   "metadata": {},
   "source": [
    "# Macam-macam Jenis Output Pada Python"
   ]
  },
  {
   "cell_type": "code",
   "execution_count": 3,
   "metadata": {},
   "outputs": [
    {
     "name": "stdout",
     "output_type": "stream",
     "text": [
      "hallo Ahmad Shyrath Oriante Snyzir umur anda: 19 IPK anda 4.0\n",
      "hallo Ahmad Shyrath Oriante Snyzir, umur anda: 19 IPK anda: 4.0\n",
      "hallo Ahmad Shyrath Oriante Snyzir, umur anda: 19, IPK anda: 4.0\n",
      "hallo Ahmad Shyrath Oriante Snyzir, umur anda: 19, IPK anda: 4.0\n"
     ]
    }
   ],
   "source": [
    "print(\"hallo\", nama, \"umur anda:\", umur, \"IPK anda\", ipk)\n",
    " \n",
    "print(\"hallo \"+ nama+ \", umur anda:\", umur, \"IPK anda:\", ipk)\n",
    "\n",
    "print(\"hallo %s, umur anda: %i, IPK anda: %.1f\" % (nama, umur, ipk))\n",
    "\n",
    "print(f\"hallo {nama}, umur anda: {umur}, IPK anda: {ipk}\")"
   ]
  },
  {
   "cell_type": "markdown",
   "metadata": {},
   "source": [
    "# Struktur Runtunan"
   ]
  },
  {
   "cell_type": "code",
   "execution_count": 4,
   "metadata": {},
   "outputs": [
    {
     "name": "stdout",
     "output_type": "stream",
     "text": [
      "pi = 3.14\n",
      "jari-jari = 24\n",
      "luas lingkaran = 1810.29\n"
     ]
    }
   ],
   "source": [
    "# input\n",
    "pi = 22/7\n",
    "r = int(input(\"jari-jari = \"))\n",
    "\n",
    "# Proses menghitung luas lingkaran\n",
    "luas = pi * r * r\n",
    "\n",
    "# output luas lingkaran\n",
    "print(\"pi = %.2f\" %pi)\n",
    "print(\"jari-jari =\", r)\n",
    "print(\"luas lingkaran = %.2f\" %(luas))"
   ]
  }
 ],
 "metadata": {
  "language_info": {
   "name": "python"
  }
 },
 "nbformat": 4,
 "nbformat_minor": 2
}
