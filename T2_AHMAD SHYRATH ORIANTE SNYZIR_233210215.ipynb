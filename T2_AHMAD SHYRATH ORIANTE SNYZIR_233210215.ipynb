{
 "cells": [
  {
   "cell_type": "code",
   "execution_count": 1,
   "metadata": {},
   "outputs": [
    {
     "name": "stdout",
     "output_type": "stream",
     "text": [
      "1. Luas Jajar Genjang \n",
      "2. Keliling Jajar Genjang \n",
      "\n",
      "pilihan yang anda pilih adalah rumus 1\n",
      "\n",
      "hasilnya adalah:\n",
      "672\n"
     ]
    }
   ],
   "source": [
    "rumus = int(input(\"masukan pilihan rumus\"))\n",
    "print(\"1. Luas Jajar Genjang \")\n",
    "print(\"2. Keliling Jajar Genjang \")\n",
    "\n",
    "if rumus == 1:\n",
    "    print(\"\\npilihan yang anda pilih adalah rumus 1\")\n",
    "    Alas = int(input(\"masukan Alas:\"))\n",
    "    Tinggi = int(input(\"Tinggi:\"))\n",
    "elif rumus == 2:\n",
    "    print(\"\\npilihan yang anda pilih adlah rumus 2\")\n",
    "    sisi1 = int(input(\"masukan sisi:1\"))\n",
    "    sisi2 = int(input(\"masukan sisi2:\"))\n",
    "else:\n",
    "    print(\"rumus tidak tersedia\")\n",
    "\n",
    "\n",
    "print(\"\\nhasilnya adalah:\")\n",
    "if rumus == 1:\n",
    "    print(Alas * Tinggi)\n",
    "elif rumus == 2:\n",
    "    print( 2* (sisi + sisi))\n"
   ]
  },
  {
   "cell_type": "markdown",
   "metadata": {},
   "source": [
    "Di baris pertama Mendeklarasikan rumus untuk di inputkan\n",
    "dibaris kedua dan ketiga gunanya untuk memilih rumus yang akan di pilih nantinya\n",
    "pada percabangan satu kita mendeklrasikan satu sebagai rumus luas Jajar Genjang dan memasukkan atau menginput Alas dan Tinggi sebagai komponen rumus Jajar Genjang dan juga memasukkan npilihan agar pada saat di Run(Di jalankan) kan akan tertulis pilihan rumus yang digunakan\n",
    "\n",
    "Pada percabangan kedua sama hal seperti percabangan satu ,yang membedakan nya ialah mendeklarasikan rumus Keliling Jajar Genjang beserta menginputkan komponen dalam rumus \n",
    "di percabangan akhir adalah sebagai pemutus loop agar ketika rumus yang dimasukkan tidak ada selain rumus Luas dan Keliling Jajar Genjang akan memberitahukan bahwa rumus tidak tersedia.\n",
    "\n",
    "Selanjutnya print nhasilnya berfungsi untuk memberikan kelengkapan untuk hasil output  agar lebih jelas dan rapi.\n",
    "\n",
    "Kemudian pada deklarasi if rumus satu dimasukan operator sesuai dengan rumus Luas Jajar genjang dan begitu juga di rumus kedua untuk Keliling Jajar Genjang."
   ]
  }
 ],
 "metadata": {
  "kernelspec": {
   "display_name": "Python 3",
   "language": "python",
   "name": "python3"
  },
  "language_info": {
   "codemirror_mode": {
    "name": "ipython",
    "version": 3
   },
   "file_extension": ".py",
   "mimetype": "text/x-python",
   "name": "python",
   "nbconvert_exporter": "python",
   "pygments_lexer": "ipython3",
   "version": "3.12.2"
  }
 },
 "nbformat": 4,
 "nbformat_minor": 2
}
